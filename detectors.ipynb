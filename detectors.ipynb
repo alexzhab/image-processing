{
  "nbformat": 4,
  "nbformat_minor": 0,
  "metadata": {
    "colab": {
      "provenance": [],
      "authorship_tag": "ABX9TyPzBW0asBHc1l81f7ka2kos",
      "include_colab_link": true
    },
    "kernelspec": {
      "name": "python3",
      "display_name": "Python 3"
    },
    "language_info": {
      "name": "python"
    }
  },
  "cells": [
    {
      "cell_type": "markdown",
      "metadata": {
        "id": "view-in-github",
        "colab_type": "text"
      },
      "source": [
        "<a href=\"https://colab.research.google.com/github/alexzhab/image-processing/blob/main/detectors.ipynb\" target=\"_parent\"><img src=\"https://colab.research.google.com/assets/colab-badge.svg\" alt=\"Open In Colab\"/></a>"
      ]
    },
    {
      "cell_type": "code",
      "execution_count": null,
      "metadata": {
        "id": "JJMGaSZVLYGm"
      },
      "outputs": [],
      "source": [
        "import tensorflow as tf\n",
        "from keras import backend as K\n",
        "from tensorflow.keras.utils import load_img, img_to_array\n",
        "import matplotlib.pyplot as plt \n",
        "from keras.applications.vgg16 import preprocess_input, decode_predictions\n",
        "import numpy as np\n",
        "\n",
        "import keras\n",
        "\n",
        "from keras.utils import np_utils\n",
        "from keras.optimizers import Adam\n",
        "\n",
        "import os\n",
        "import numpy as np\n",
        "import itertools\n",
        "\n",
        "import cv2\n",
        "import os\n",
        "%matplotlib inline"
      ]
    },
    {
      "cell_type": "code",
      "source": [
        "import cv2\n",
        "\n",
        "DETECTOR_METHOD_FAST = \"fast\"\n",
        "DETECTOR_METHOD_SIFT = \"sift\"\n",
        "DETECTOR_METHOD_HARRIS = \"harris\"\n",
        "\n",
        "DESCRIPTOR_METHOD_SIFT = \"sift\"\n",
        "\n",
        "def get_image_description(img, filename, threshold, detector, \n",
        "                          descriptor = DESCRIPTOR_METHOD_SIFT,\n",
        "                          drawDebug = False):\n",
        "    img_array = img_to_array(img)\n",
        "    img_grayscale = cv2.cvtColor(img_array, cv2.COLOR_RGB2GRAY).astype(np.uint8)\n",
        "    \n",
        "    if detector == DETECTOR_METHOD_HARRIS:\n",
        "        keypoints = []\n",
        "        responses = cv2.cornerHarris(img_grayscale, 2, 3, 0.04)\n",
        "        for x in (-responses.flatten()).argsort()[:threshold]:\n",
        "            indices = np.unravel_index(x, responses.shape)\n",
        "            keypoints.append(cv2.KeyPoint(indices[1].astype(float), indices[0].astype(float), 17))\n",
        "    elif detector == DETECTOR_METHOD_SIFT:\n",
        "        feat = cv2.xfeatures2d.SIFT_create(threshold)\n",
        "        keypoints = feat.detect(img_grayscale, None)\n",
        "    elif detector == DETECTOR_METHOD_FAST:\n",
        "        feat = cv2.FastFeatureDetector_create(threshold)\n",
        "        keypoints = feat.detect(img_grayscale, None)\n",
        "    else:\n",
        "        raise Exception(\"Unknown detector\")\n",
        "\n",
        "    if drawDebug:\n",
        "        img_array_kp = img_array.copy().astype(np.uint8)\n",
        "        cv2.drawKeypoints(img_array_kp, keypoints, img_array_kp, (255, 0, 0))\n",
        "        plt.axis('off')\n",
        "        plt.imshow(img_array_kp)\n",
        "        plt.savefig(filename)\n",
        "        plt.close()\n",
        "    \n",
        "    descriptor = cv2.xfeatures2d.SIFT_create()\n",
        "    return img_array, descriptor.compute(img_grayscale, keypoints)"
      ],
      "metadata": {
        "id": "8HR34fbELfKO"
      },
      "execution_count": null,
      "outputs": []
    },
    {
      "cell_type": "code",
      "source": [
        "def find_filepaths(data_path: str) -> list:\n",
        "    res_data = []\n",
        "    for filename in os.listdir(data_path):\n",
        "        if filename.endswith(\"jpg\"):\n",
        "            filepath = os.path.join(data_path, filename)\n",
        "            res_data.append(filepath)\n",
        "    return res_data\n",
        "\n",
        "\n",
        "pics = find_filepaths(\"/content/pics/\")\n",
        "print(pics)\n",
        "for i in range(len(pics)):\n",
        "  img = cv2.imread(pics[i])\n",
        "  path = pics[i].replace(\"pics\", \"harris\")\n",
        "  print(path)\n",
        "  tmp, tmp_desc = get_image_description(load_img(pics[i]), path, threshold = 200, detector = DETECTOR_METHOD_HARRIS, drawDebug = True)"
      ],
      "metadata": {
        "id": "4oD0Y33aLhtu"
      },
      "execution_count": null,
      "outputs": []
    }
  ]
}